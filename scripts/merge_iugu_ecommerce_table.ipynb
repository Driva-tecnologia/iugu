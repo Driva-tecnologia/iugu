{
 "cells": [
  {
   "cell_type": "code",
   "execution_count": null,
   "id": "fa0ba1b7",
   "metadata": {},
   "outputs": [],
   "source": [
    "from pyspark import SparkConf\n",
    "from pyspark.sql import SparkSession\n",
    "from pyspark.sql.functions import col, udf\n",
    "from pyspark.sql.functions import monotonically_increasing_id, row_number\n",
    "from pyspark.sql import Window, SQLContext\n",
    "from pyspark.sql.types import IntegerType, StringType\n",
    "\n",
    "import pyspark.sql.functions as F\n",
    "import pandas as pd"
   ]
  },
  {
   "cell_type": "code",
   "execution_count": null,
   "id": "a9d14d05",
   "metadata": {},
   "outputs": [],
   "source": [
    "conf = SparkConf().setAppName(\"App\").setMaster(\"local[*]\")\n",
    "\n",
    "# Habilitar otimizações e configurações adicionais\n",
    "conf.set(\"spark.sql.execution.arrow.pyspark.enabled\", \"true\")\n",
    "conf.set(\"spark.sql.repl.eagerEval.enabled\", \"true\")\n",
    "conf.set(\"spark.sql.repl.eagerEval.truncate\", 100)\n",
    "conf.set(\"spark.sql.execution.arrow.pyspark.ignore_timezone\", \"true\")\n",
    "\n",
    "# AWS S3 CONNECTION\n",
    "AWS_ACCESS_KEY = \"\"\n",
    "AWS_SECRET_KEY = \"\"\n",
    "AWS_ENDPOINT_URL = \"\"\n",
    "AWS_REGION = \"bhs\"\n",
    "\n",
    "conf.set(\"spark.driver.memory\", \"30g\")\n",
    "conf.set(\"spark.executor.memory\", \"30g\")\n",
    "conf.set(\"spark.executor.pyspark.memory\", \"30g\")\n",
    "conf.set(\"spark.memory.offHeap.enabled\", \"true\")\n",
    "conf.set(\"spark.memory.offHeap.size\", \"30g\")\n",
    "conf.set(\"spark.sql.parquet.enableVectorizedReader\", \"false\")\n",
    "conf.set(\"spark.sql.execution.arrow.pyspark.enabled\", \"true\")\n",
    "conf.set(\"spark.sql.repl.eagerEval.enabled\", \"true\")\n",
    "conf.set(\"spark.sql.repl.eagerEval.truncate\", 100)\n",
    "# conf.set(\"spark.jars\", \"/home/shared/drivers/postgresql-42.7.2.jar\")\n",
    "conf.set(\"spark.hadoop.fs.s3a.access.key\", AWS_ACCESS_KEY)\n",
    "conf.set(\"spark.hadoop.fs.s3a.secret.key\", AWS_SECRET_KEY)\n",
    "conf.set(\"spark.hadoop.fs.s3a.endpoint\", AWS_ENDPOINT_URL)\n",
    "conf.set(\"spark.hadoop.fs.s3a.impl\", \"org.apache.hadoop.fs.s3a.S3AFileSystem\")\n",
    "conf.set(\"spark.jars.packages\", \"org.apache.hadoop:hadoop-aws:3.2.2\")\n",
    "conf.set(\"spark.hadoop.fs.s3a.aws.credentials.provider\", \"org.apache.hadoop.fs.s3a.SimpleAWSCredentialsProvider\")\n",
    "# conf.set(\"spark.executor.extraJavaOptions\", \"-XX:+UseG1GC -XX:InitiatingHeapOccupancyPercent=35\")\n",
    "# conf.set(\"spark.driver.extraJavaOptions\", \"-XX:+UseG1GC -XX:InitiatingHeapOccupancyPercent=35\")\n",
    "# conf.set(\"spark.executor.extraJavaOptions\", \"-Djavax.net.debug=all\")\n",
    "# conf.set(\"spark.driver.extraJavaOptions\", \"-Djavax.net.debug=all\")\n",
    "spark = SparkSession.builder.config(conf=conf).getOrCreate()\n",
    "\n",
    "print(spark.sparkContext.getConf().get(\"spark.jars\"))\n",
    "print(spark._jsc.sc().listJars())\n",
    "\n",
    "print(\"Spark session configurada com sucesso!\")"
   ]
  },
  {
   "cell_type": "code",
   "execution_count": null,
   "id": "867af5c2",
   "metadata": {},
   "outputs": [],
   "source": [
    "ecommerce_table_df = spark.read.format(\"csv\").option(\"header\", \"true\").load(\"/media/greca/HD/Driva/ecommerces_202504281706.csv\")\n",
    "ecommerce_table_df.show()"
   ]
  },
  {
   "cell_type": "code",
   "execution_count": null,
   "id": "8cd02689",
   "metadata": {},
   "outputs": [],
   "source": [
    "pdf = pd.read_excel(\"../data/Base Segmentação_iugu_250417.xlsx\", sheet_name=\"Base enriquecida\")\n",
    "original_df = spark.createDataFrame(pdf)\n",
    "original_df = original_df.select(\"cnpj\", \"Nome da empresa\", \"Nicho tech\", \"Segmento iugu\")\n",
    "original_df = original_df.withColumn(\"raiz_cnpj\", F.substring(\"cnpj\", 1, 8))\n",
    "original_df.show()"
   ]
  },
  {
   "cell_type": "code",
   "execution_count": null,
   "id": "6994dbc4",
   "metadata": {},
   "outputs": [],
   "source": [
    "df = original_df.join(ecommerce_table_df, on=\"raiz_cnpj\", how=\"inner\")\n",
    "df = df.select(\"raiz_cnpj\", \"cnpj\", \"Nome da empresa\", \"Nicho tech\", \"Segmento iugu\", \"host\", \"dominio\")\n",
    "df = df.dropDuplicates(subset=[\"raiz_cnpj\", \"cnpj\", \"Nome da empresa\", \"dominio\"])\n",
    "df.show(40)"
   ]
  },
  {
   "cell_type": "code",
   "execution_count": null,
   "id": "c8a43e18",
   "metadata": {},
   "outputs": [],
   "source": [
    "only_suno = df.filter((\n",
    "    (col(\"cnpj\") == 26228525000172) & (col(\"dominio\") == \"suno.com.br\")\n",
    "))\n",
    "df = df.filter(\n",
    "    ~(\n",
    "        (col(\"cnpj\") == 26228525000172)\n",
    "    )) # excluding all 'suno' rows \n",
    "df = df.union(only_suno)\n",
    "df = df.select(\"dominio\", \"host\", \"raiz_cnpj\", \"cnpj\", \"Nome da empresa\", \"Nicho tech\", \"Segmento iugu\")\n",
    "df = df.dropDuplicates(subset=[\"dominio\", \"host\", \"Nome da empresa\"])\n",
    "df = df.withColumn(\"dominio\", F.trim(\"dominio\"))\n",
    "df = df.withColumn(\"host\", F.trim(\"host\"))\n",
    "df.show(50)"
   ]
  },
  {
   "cell_type": "code",
   "execution_count": null,
   "id": "33b41a07",
   "metadata": {},
   "outputs": [],
   "source": [
    "# only_suno = df.filter((\n",
    "#     (col(\"cnpj\") == 23903417000160) & (col(\"dominio\") == \"treeunfe.com.br\") |\n",
    "#     (col(\"cnpj\") == 23055665000106) & (col(\"dominio\") == \"monetizze.com.br\") |\n",
    "#     (col(\"cnpj\") == 45954282000102) & (col(\"dominio\") == \"principia.net\") |\n",
    "#     (col(\"cnpj\") == 49612580000167) & (col(\"dominio\") == \"kalyst.com.br\") |\n",
    "#     (col(\"cnpj\") == 56228263000107) & (col(\"dominio\") == \"hardpaygateway.com.br\")\n",
    "# ))\n",
    "# df = df.filter(\n",
    "#     ~(\n",
    "#         (col(\"cnpj\") == 23903417000160) |\n",
    "#         (col(\"cnpj\") == 23055665000106) |\n",
    "#         (col(\"cnpj\") == 29524877000163) |\n",
    "#         (col(\"cnpj\") == 38733648002789) |\n",
    "#         (col(\"cnpj\") == 45954282000102) |\n",
    "#         (col(\"cnpj\") == 47220889000186) |\n",
    "#         (col(\"cnpj\") == 49612580000167) |\n",
    "#         (col(\"cnpj\") == 56228263000107) |\n",
    "#         (col(\"cnpj\") == 35550699000148) |\n",
    "#         (col(\"cnpj\") == 19609281000102)\n",
    "#     )) # excluding all 'suno' rows \n",
    "# df = df.union(only_suno)\n",
    "# df = df.select(\"dominio\", \"host\", \"raiz_cnpj\", \"cnpj\", \"nome\")\n",
    "# df = df.dropDuplicates(subset=[\"dominio\", \"host\", \"nome\"])\n",
    "# df.show(50)"
   ]
  },
  {
   "cell_type": "code",
   "execution_count": null,
   "id": "1a0d08c9",
   "metadata": {},
   "outputs": [],
   "source": [
    "companies_found = df.select(\"raiz_cnpj\").distinct().collect()\n",
    "companies_found = [cf.raiz_cnpj for cf in companies_found]\n",
    "\n",
    "remainder_domains = original_df.filter(~col(\"raiz_cnpj\").isin(companies_found))\n",
    "remainder_domains.show(50, truncate=False)"
   ]
  },
  {
   "cell_type": "code",
   "execution_count": null,
   "id": "745d6b98",
   "metadata": {},
   "outputs": [],
   "source": [
    "websites_found = []\n",
    "\n",
    "# websites_found = [\n",
    "#     \"viatechinfo.com.br\",\n",
    "#     \"\",\n",
    "#     \"\",\n",
    "#     \"\",\n",
    "#     \"\",\n",
    "#     \"grupotravessia.com\",\n",
    "#     \"cursobeta.com.br\",\n",
    "#     \"supergeeks.com.br\",\n",
    "#     \"wpensar.com.br\",\n",
    "#     \"\",\n",
    "#     \"\",\n",
    "#     \"cursoyes.com.br\",\n",
    "#     \"propulse.global\",\n",
    "#     \"formei.me\",\n",
    "#     \"fybot.io\",\n",
    "#     \"plataforma.edibrasil.org\",\n",
    "#     \"escolamais.com\",\n",
    "#     \"\",\n",
    "#     \"myprofitweb.com\",\n",
    "#     \"astonpaybr.com\",\n",
    "#     \"hypercash.com.br\",\n",
    "#     \"portaldecompraspublicas.com.br\",\n",
    "#     \"virtutech.ai\",\n",
    "#     \"\",\n",
    "#     \"olhonocarro.com.br\",\n",
    "#     \"minhasupervida.com.br\",\n",
    "#     \"anadem.org.br\",\n",
    "#     \"yuppietech.com.br\",\n",
    "#     \"onebox.one\"\n",
    "# ]\n",
    "\n",
    "labels_udf = F.udf(lambda indx: websites_found[indx-1], StringType())\n",
    "\n",
    "# Create a column with continuous increasing Id's \n",
    "remainder_domains = remainder_domains.withColumn(\"num_id\", row_number().over( Window.orderBy(monotonically_increasing_id())))\n",
    "\n",
    "# Create a new column by calling the user defined function \n",
    "remainder_domains = remainder_domains.withColumn(\"dominio\", labels_udf(\"num_id\"))\n",
    "remainder_domains = remainder_domains.withColumn(\"host\", labels_udf(\"num_id\"))\n",
    "remainder_domains = remainder_domains.drop(\"num_id\")\n",
    "remainder_domains = remainder_domains.filter(col(\"dominio\") != \"\")\n",
    "remainder_domains = remainder_domains.select(\"dominio\", \"host\", \"raiz_cnpj\", \"cnpj\", \"nome\")\n",
    "remainder_domains.show()"
   ]
  },
  {
   "cell_type": "code",
   "execution_count": null,
   "id": "fa2c4b12",
   "metadata": {},
   "outputs": [],
   "source": [
    "df = df.union(remainder_domains)\n",
    "df.show(50)"
   ]
  },
  {
   "cell_type": "code",
   "execution_count": null,
   "id": "6981c04c",
   "metadata": {},
   "outputs": [],
   "source": [
    "# df.write.parquet(\"../data/iugu_enrichment.parquet\", mode=\"overwrite\")"
   ]
  },
  {
   "cell_type": "code",
   "execution_count": null,
   "id": "b8163c68",
   "metadata": {},
   "outputs": [],
   "source": [
    "spark.stop()"
   ]
  }
 ],
 "metadata": {
  "kernelspec": {
   "display_name": "driva_ecomm",
   "language": "python",
   "name": "python3"
  },
  "language_info": {
   "codemirror_mode": {
    "name": "ipython",
    "version": 3
   },
   "file_extension": ".py",
   "mimetype": "text/x-python",
   "name": "python",
   "nbconvert_exporter": "python",
   "pygments_lexer": "ipython3",
   "version": "3.10.16"
  }
 },
 "nbformat": 4,
 "nbformat_minor": 5
}
