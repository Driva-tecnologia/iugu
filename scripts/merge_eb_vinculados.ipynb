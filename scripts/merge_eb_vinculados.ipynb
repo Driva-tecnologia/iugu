{
 "cells": [
  {
   "cell_type": "code",
   "execution_count": null,
   "id": "49024051",
   "metadata": {},
   "outputs": [],
   "source": [
    "from pyspark import SparkConf\n",
    "from pyspark.sql import SparkSession\n",
    "from pyspark.sql.functions import col, lit, rand\n",
    "from pyspark.sql.functions import round as ps_round\n",
    "from pyspark.sql.types import StructField, StringType, StructType"
   ]
  },
  {
   "cell_type": "code",
   "execution_count": null,
   "id": "e7bddd7d",
   "metadata": {},
   "outputs": [],
   "source": [
    "conf = SparkConf().setAppName(\"App\").setMaster(\"local[*]\")\n",
    "\n",
    "# Habilitar otimizações e configurações adicionais\n",
    "conf.set(\"spark.sql.execution.arrow.pyspark.enabled\", \"true\")\n",
    "conf.set(\"spark.sql.repl.eagerEval.enabled\", \"true\")\n",
    "conf.set(\"spark.sql.repl.eagerEval.truncate\", 100)\n",
    "conf.set(\"spark.sql.execution.arrow.pyspark.ignore_timezone\", \"true\")\n",
    "\n",
    "# AWS S3 CONNECTION\n",
    "AWS_ENDPOINT_URL = \"\"\n",
    "AWS_ACCESS_KEY = \"\"\n",
    "AWS_SECRET_KEY = \"\"\n",
    "AWS_REGION = \"bhs\"\n",
    "\n",
    "conf.set(\"spark.jars\", \"/home/shared/drivers/postgresql-42.7.2.jar\")\n",
    "conf.set(\"spark.hadoop.fs.s3a.access.key\", AWS_ACCESS_KEY)\n",
    "conf.set(\"spark.hadoop.fs.s3a.secret.key\", AWS_SECRET_KEY)\n",
    "conf.set(\"spark.hadoop.fs.s3a.endpoint\", AWS_ENDPOINT_URL)\n",
    "conf.set(\"spark.hadoop.fs.s3a.impl\", \"org.apache.hadoop.fs.s3a.S3AFileSystem\")\n",
    "conf.set(\"spark.jars.packages\", \"io.delta:delta-spark_2.12:3.1.0,org.apache.hadoop:hadoop-aws:3.2.2\")\n",
    "conf.set(\"spark.hadoop.fs.s3a.aws.credentials.provider\", \"org.apache.hadoop.fs.s3a.SimpleAWSCredentialsProvider\")\n",
    "\n",
    "conf.set(\"spark.sql.catalog.spark_catalog\", \"org.apache.spark.sql.delta.catalog.DeltaCatalog\")\n",
    "conf.set(\"spark.sql.extensions\", \"io.delta.sql.DeltaSparkSessionExtension\")\n",
    "\n",
    "# Configurações de tempo e legacy\n",
    "conf.set(\"spark.sql.legacy.timeParserPolicy\",\"LEGACY\")\n",
    "conf.set(\"spark.sql.parquet.datetimeRebaseModeInWrite\",\"LEGACY\")\n",
    "\n",
    "# Configurações de memória\n",
    "conf.set(\"spark.driver.memory\", \"60g\")\n",
    "conf.set(\"spark.executor.memory\", \"60g\")\n",
    "conf.set(\"spark.executor.pyspark.memory\", \"60g\")\n",
    "conf.set(\"spark.memory.offHeap.enabled\", \"true\")\n",
    "conf.set(\"spark.memory.offHeap.size\", \"60g\")\n",
    "\n",
    "# Inicializa o SparkSession com a configuração\n",
    "spark = SparkSession.builder.config(conf=conf).getOrCreate()\n",
    "\n",
    "print(\"Spark session configurada com sucesso!\")"
   ]
  },
  {
   "cell_type": "code",
   "execution_count": null,
   "id": "5c54c3e3",
   "metadata": {},
   "outputs": [],
   "source": [
    "DB_HOST = \"driva-db.driva.io\"\n",
    "DB_PORT = 5432\n",
    "DB_NAME = \"postgres\"\n",
    "DB_SITES_SCHEMA = \"sites.vinculados\"\n",
    "DB_EB_DRIVA = \"empresas_do_brasil.simplificado\"\n",
    "DB_USER = \"\"\n",
    "DB_PASSWORD = \"\"\n",
    "\n",
    "sites_df = spark.read \\\n",
    "    .format(\"jdbc\") \\\n",
    "    .option(\"url\", f\"jdbc:postgresql://{DB_HOST}:{DB_PORT}/{DB_NAME}\") \\\n",
    "    .option(\"dbtable\", DB_SITES_SCHEMA) \\\n",
    "    .option(\"user\", DB_USER) \\\n",
    "    .option(\"password\", DB_PASSWORD) \\\n",
    "    .option(\"driver\", \"org.postgresql.Driver\") \\\n",
    "    .load()\n",
    "\n",
    "eb_df = spark.read \\\n",
    "    .format(\"jdbc\") \\\n",
    "    .option(\"url\", f\"jdbc:postgresql://{DB_HOST}:{DB_PORT}/{DB_NAME}\") \\\n",
    "    .option(\"dbtable\", DB_EB_DRIVA) \\\n",
    "    .option(\"user\", DB_USER) \\\n",
    "    .option(\"password\", DB_PASSWORD) \\\n",
    "    .option(\"driver\", \"org.postgresql.Driver\") \\\n",
    "    .load()"
   ]
  },
  {
   "cell_type": "code",
   "execution_count": null,
   "id": "45a67c7c",
   "metadata": {},
   "outputs": [],
   "source": [
    "sites_df.printSchema()"
   ]
  },
  {
   "cell_type": "code",
   "execution_count": null,
   "id": "46f9ee4d",
   "metadata": {},
   "outputs": [],
   "source": [
    "eb_df.printSchema()"
   ]
  },
  {
   "cell_type": "code",
   "execution_count": null,
   "id": "1bf9dec6",
   "metadata": {},
   "outputs": [],
   "source": [
    "sites_df = sites_df.filter(col(\"score_vinculo\") >= 0.7)\n",
    "sites_df.count()"
   ]
  },
  {
   "cell_type": "code",
   "execution_count": null,
   "id": "67b74fe9",
   "metadata": {},
   "outputs": [],
   "source": [
    "eb_df = eb_df.filter(\n",
    "    (col(\"cnae_principal_divisao\") == 85) | # Educação\n",
    "    (col(\"cnae_principal_divisao\") == 86) | # Saúde\n",
    "    (col(\"cnae_principal_classe\") == 62023) | # Software / Saas\n",
    "    (col(\"cnae_principal_classe\") == 62031) # Software / Saas\n",
    ")\n",
    "eb_df.count()"
   ]
  },
  {
   "cell_type": "code",
   "execution_count": null,
   "id": "7cb6a679",
   "metadata": {},
   "outputs": [],
   "source": [
    "merged_df = sites_df.join(eb_df, on=\"raiz_cnpj\", how=\"inner\")\n",
    "merged_df = merged_df.select(\n",
    "    \"dominio\",\n",
    "    \"raiz_cnpj\",\n",
    "    \"cnpj\",\n",
    "    \"cnae_principal_divisao\",\n",
    "    \"cnae_principal_secao\",\n",
    "    \"cnae_principal_grupo\",\n",
    "    \"cnae_principal_classe\",\n",
    "    \"cnae_principal_subclasse\",\n",
    "    \"segmento\",\n",
    ")\n",
    "merged_df.count()"
   ]
  },
  {
   "cell_type": "code",
   "execution_count": null,
   "id": "50bae725",
   "metadata": {},
   "outputs": [],
   "source": [
    "cnae_divisions = [85, 86, 62]\n",
    "num_samples = 10000\n",
    "seed = 42\n",
    "\n",
    "new_df = spark.createDataFrame(\n",
    "    spark.sparkContext.emptyRDD(),\n",
    "    schema=merged_df.schema,\n",
    ")\n",
    "\n",
    "# field = [\n",
    "#     StructField(\"raiz_cnpj\", StringType(), True),\n",
    "#     StructField(\"raiz_cnpj\", StringType(), True),\n",
    "#     StructField(\"Segmento iugu\", StringType(), True),\n",
    "# ]\n",
    "# schema = StructType(field)\n",
    "\n",
    "# new_segment_column = spark.createDataFrame(\n",
    "#     spark.sparkContext.emptyRDD(),\n",
    "#     schema=schema,\n",
    "# )\n",
    "\n",
    "for cnae in cnae_divisions:\n",
    "    if cnae in [85, 86]:\n",
    "        temp = merged_df.filter(col(\"cnae_principal_divisao\") == cnae)\n",
    "        temp = spark.createDataFrame(\n",
    "            temp.rdd.takeSample(\n",
    "                withReplacement=False,\n",
    "                num=num_samples,\n",
    "                seed=seed,\n",
    "            ),\n",
    "            schema=merged_df.schema,\n",
    "        )\n",
    "\n",
    "        # if cnae == 85:\n",
    "        #     temp_segment = temp.withColumn(\"Segmento iugu\", lit(\"Educação\")).select(\"raiz_cnpj\", \"cnpj\", \"Segmento iugu\")\n",
    "        # elif cnae == 86:\n",
    "        #     temp_segment = temp.withColumn(\"Segmento iugu\", lit(\"Saúde\")).select(\"raiz_cnpj\", \"cnpj\", \"Segmento iugu\")\n",
    "\n",
    "    else:\n",
    "        temp = merged_df.filter(\n",
    "            (col(\"cnae_principal_classe\") == 62023) |\n",
    "            (col(\"cnae_principal_classe\") == 62031)\n",
    "        )\n",
    "        \n",
    "        temp = spark.createDataFrame(\n",
    "            temp.rdd.takeSample(\n",
    "                withReplacement=False,\n",
    "                num=num_samples,\n",
    "                seed=seed,\n",
    "            ),\n",
    "            schema=merged_df.schema,\n",
    "        )\n",
    "        # temp_segment = temp.withColumn(\"Segmento iugu\", lit(\"Saas\")).select(\"raiz_cnpj\", \"cnpj\", \"Segmento iugu\")\n",
    "        \n",
    "    new_df = new_df.union(temp)\n",
    "    # new_segment_column = new_segment_column.union(temp_segment)\n",
    "\n",
    "# new_df = new_df.join(new_segment_column, on=\"raiz_cnpj\", how=\"inner\")\n",
    "new_df.printSchema()"
   ]
  },
  {
   "cell_type": "code",
   "execution_count": null,
   "id": "d4522e5f",
   "metadata": {},
   "outputs": [],
   "source": [
    "new_df.count()"
   ]
  },
  {
   "cell_type": "code",
   "execution_count": null,
   "id": "dc43f91e",
   "metadata": {},
   "outputs": [],
   "source": [
    "# new_df.write.save(\"s3a://drivalake/raw/sites/iugu/iugu_with_saas.parquet\")"
   ]
  },
  {
   "cell_type": "code",
   "execution_count": null,
   "id": "9d601946",
   "metadata": {},
   "outputs": [],
   "source": [
    "spark.stop()"
   ]
  },
  {
   "cell_type": "code",
   "execution_count": null,
   "id": "619fbbbf",
   "metadata": {},
   "outputs": [],
   "source": [
    "import pandas as pd\n",
    "\n",
    "df = pd.read_parquet(\"../data/new_iugu_saas2_with_html.parquet\", engine=\"pyarrow\")\n",
    "df.head()"
   ]
  },
  {
   "cell_type": "code",
   "execution_count": null,
   "id": "289318a0",
   "metadata": {},
   "outputs": [],
   "source": [
    "label = pd.read_parquet(\"../data/iugu_with_saas2.parquet\", engine=\"pyarrow\")\n",
    "label = label.rename(columns={\"dominio\": \"host\"})\n",
    "label"
   ]
  },
  {
   "cell_type": "code",
   "execution_count": null,
   "id": "ece06c13",
   "metadata": {},
   "outputs": [],
   "source": [
    "df = df.merge(label, how=\"inner\", on=\"host\")\n",
    "df = df[\n",
    "    [\n",
    "        \"url\",\n",
    "        \"host\",\n",
    "        \"html\",\n",
    "        \"raiz_cnpj\",\n",
    "        \"cnpj\",\n",
    "        \"cnae_principal_divisao\",\n",
    "        \"cnae_principal_secao\",\n",
    "        \"cnae_principal_grupo\",\n",
    "        \"cnae_principal_classe\",\n",
    "        \"cnae_principal_subclasse\",\n",
    "        \"segmento\",\n",
    "    ]\n",
    "]\n",
    "df.head()"
   ]
  },
  {
   "cell_type": "code",
   "execution_count": null,
   "id": "d88675db",
   "metadata": {},
   "outputs": [],
   "source": [
    "mapping = {\n",
    "    85: \"Educação\",\n",
    "    86: \"Saúde\",\n",
    "    62: \"Saas\"\n",
    "}\n",
    "\n",
    "df[\"Segmento iugu\"] = df[\"cnae_principal_divisao\"].apply(lambda x: mapping[x])\n",
    "df"
   ]
  },
  {
   "cell_type": "code",
   "execution_count": null,
   "id": "51def5b3",
   "metadata": {},
   "outputs": [],
   "source": [
    "df[\"Segmento iugu\"].value_counts()"
   ]
  },
  {
   "cell_type": "code",
   "execution_count": null,
   "id": "317fc4cc",
   "metadata": {},
   "outputs": [],
   "source": [
    "df.to_parquet(\"../data/new_iugu_saas2_with_html.parquet\", engine=\"pyarrow\")"
   ]
  }
 ],
 "metadata": {
  "kernelspec": {
   "display_name": "driva_ecomm",
   "language": "python",
   "name": "python3"
  },
  "language_info": {
   "codemirror_mode": {
    "name": "ipython",
    "version": 3
   },
   "file_extension": ".py",
   "mimetype": "text/x-python",
   "name": "python",
   "nbconvert_exporter": "python",
   "pygments_lexer": "ipython3",
   "version": "3.10.16"
  }
 },
 "nbformat": 4,
 "nbformat_minor": 5
}
